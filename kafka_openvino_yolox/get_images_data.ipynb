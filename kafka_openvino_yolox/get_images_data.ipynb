{
 "cells": [
  {
   "cell_type": "code",
   "execution_count": 1,
   "id": "bcb2949f-8121-42f0-b8df-b0f97d6b35da",
   "metadata": {},
   "outputs": [],
   "source": [
    "import kafka\n",
    "from kafka import KafkaProducer, KafkaConsumer\n",
    "from kafka.errors import kafka_errors\n",
    "import traceback\n",
    "import json\n",
    "import sys\n",
    "import socket\n",
    "import cv2\n",
    "import os\n",
    "import base64\n",
    "import matplotlib.pyplot as plt\n",
    "from PIL import Image\n",
    "from IPython.display import display\n",
    "import numpy as np\n",
    "from bigdl.serving.schema import *\n",
    "import time"
   ]
  },
  {
   "cell_type": "code",
   "execution_count": 2,
   "id": "8a666394-7cfc-45c5-a000-eb174ad6d0a5",
   "metadata": {},
   "outputs": [],
   "source": [
    "host_name = socket.gethostname()\n",
    "port = \"9092\""
   ]
  },
  {
   "cell_type": "code",
   "execution_count": 3,
   "id": "59691937-cd41-4eb6-9037-dbf64013af3e",
   "metadata": {},
   "outputs": [],
   "source": [
    "class OutputQueue:\n",
    "    def __init__(self, host=None, port=None, group_id='group-1',\n",
    "                 auto_offset_reset='earliest', **kwargs):\n",
    "        host = host if host else \"localhost\"\n",
    "        port = port if port else \"9092\"\n",
    "        self.topic_name = kwargs.get(\"topic_name\") if kwargs.get(\"topic_name\") else \"cluster-serving_serving_stream\"\n",
    "        \n",
    "        for key in [\"host\", \"port\", \"topic_name\"]:\n",
    "            if key in kwargs:\n",
    "                kwargs.pop(key)\n",
    "        # create a kafka consumer    \n",
    "        self.db = KafkaConsumer(self.topic_name, bootstrap_servers=host+\":\"+port, \n",
    "                                group_id=group_id, auto_offset_reset=auto_offset_reset, **kwargs)\n",
    "        \n",
    "    def dequeue(self):\n",
    "        records = self.db.poll(timeout_ms = 500)\n",
    "        self.db.commit()\n",
    "        decoded = {}\n",
    "        for tp, messages in records.items():\n",
    "                for message in messages:\n",
    "                    res_id = message.key.decode()\n",
    "                    print(res_id)\n",
    "                    res_value = message.value.decode()\n",
    "                    decoded[res_id] = self.get_ndarray_from_b64(res_value)\n",
    "        return decoded\n",
    "    \n",
    "    def get_ndarray_from_b64(self, b64str):\n",
    "        b = base64.b64decode(b64str)\n",
    "        a = pa.BufferReader(b)\n",
    "        c = a.read_buffer()\n",
    "        myreader = pa.ipc.open_stream(c)\n",
    "        r = [i for i in myreader]\n",
    "        assert len(r) > 0\n",
    "        if len(r) == 1:\n",
    "            return self.get_ndarray_from_record_batch(r[0])\n",
    "        else:\n",
    "            l = []\n",
    "            for ele in r:\n",
    "                l.append(self.get_ndarray_from_record_batch(ele))\n",
    "            return l\n",
    "\n",
    "    def get_ndarray_from_record_batch(self, record_batch):\n",
    "        data = record_batch[0].to_numpy()\n",
    "        shape_list = record_batch[1].to_pylist()\n",
    "        shape = [i for i in shape_list if i]\n",
    "        ndarray = data.reshape(shape)\n",
    "        return ndarray\n",
    "    \n",
    "    def close(self):\n",
    "        self.db.close()"
   ]
  },
  {
   "cell_type": "code",
   "execution_count": 4,
   "id": "483221e2-1337-4028-bfab-6e8d65a44c9e",
   "metadata": {},
   "outputs": [],
   "source": [
    "def get_result(timeout=5):\n",
    "    start_time = time.time()\n",
    "    end_time = start_time\n",
    "    output_api = OutputQueue(host=host_name, port=port)\n",
    "    results_queue = {}\n",
    "    total_num = 0\n",
    "    while True:\n",
    "        result = output_api.dequeue()\n",
    "        total_num += len(result)\n",
    "        if not result:\n",
    "            end_time = time.time()\n",
    "            if (end_time - start_time > timeout):\n",
    "                if len(results_queue) == 0:\n",
    "                    break\n",
    "                else:\n",
    "                    #show_images(results_queue) #显示结果\n",
    "                    results_queue = {}\n",
    "        else:\n",
    "            start_time = time.time()\n",
    "            end_time = start_time\n",
    "            #result = process_result(result) #后处理\n",
    "            print(\"获取结果:\", result)\n",
    "            results_queue.update(result)\n",
    "            if len(results_queue) > 6:       #如果已有超过6个结果就会显示\n",
    "                #show_images(results_queue)  #显示结果\n",
    "                results_queue = {}\n",
    "                \n",
    "    output_api.close()\n",
    "    print(\"Task completed successfully, total num is : {}\".format(total_num))"
   ]
  },
  {
   "cell_type": "code",
   "execution_count": 5,
   "id": "3dc5a213-f2d5-4375-a56e-791449119110",
   "metadata": {},
   "outputs": [
    {
     "name": "stdout",
     "output_type": "stream",
     "text": [
      "Task completed successfully, total num is : 0\n"
     ]
    }
   ],
   "source": [
    "get_result()"
   ]
  },
  {
   "cell_type": "code",
   "execution_count": null,
   "id": "11098e5b-cb35-4617-b70c-3ecfb61d96cf",
   "metadata": {},
   "outputs": [],
   "source": []
  }
 ],
 "metadata": {
  "kernelspec": {
   "display_name": "zoo-pytorch1.7",
   "language": "python",
   "name": "zoo-pytorch1.7"
  },
  "language_info": {
   "codemirror_mode": {
    "name": "ipython",
    "version": 3
   },
   "file_extension": ".py",
   "mimetype": "text/x-python",
   "name": "python",
   "nbconvert_exporter": "python",
   "pygments_lexer": "ipython3",
   "version": "3.6.13"
  }
 },
 "nbformat": 4,
 "nbformat_minor": 5
}
