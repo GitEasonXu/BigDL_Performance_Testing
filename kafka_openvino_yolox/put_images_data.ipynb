{
 "cells": [
  {
   "cell_type": "code",
   "execution_count": 1,
   "id": "1c1eae30-14bb-4cbf-948d-1e60024aa50f",
   "metadata": {},
   "outputs": [],
   "source": [
    "from kafka import KafkaProducer, KafkaConsumer\n",
    "from kafka.errors import kafka_errors\n",
    "import traceback\n",
    "import json\n",
    "import sys\n",
    "import socket\n",
    "import cv2\n",
    "import os\n",
    "import base64\n",
    "import numpy as np\n",
    "from bigdl.serving.schema import *\n",
    "from utils import preprocess\n",
    "import time"
   ]
  },
  {
   "cell_type": "code",
   "execution_count": 2,
   "id": "b70da596-a64c-4283-8164-5dae63b0153d",
   "metadata": {
    "tags": []
   },
   "outputs": [],
   "source": [
    "class InputQueue:\n",
    "    def __init__(self, frontend_url=None, **kwargs):\n",
    "        host = kwargs.get(\"host\") if kwargs.get(\"host\") else \"localhost\"\n",
    "        port = kwargs.get(\"port\") if kwargs.get(\"port\") else \"9092\"\n",
    "        self.topic_name = kwargs.get(\"topic_name\") if kwargs.get(\"topic_name\") else \"serving_stream\"\n",
    "        self.interval_if_error = 1\n",
    "        for key in [\"host\", \"port\", \"topic_name\"]:\n",
    "            if key in kwargs:\n",
    "                kwargs.pop(key)    \n",
    "        self.db = KafkaProducer(bootstrap_servers=host+\":\"+port,\n",
    "                                key_serializer=lambda k: json.dumps(k).encode('utf-8'),\n",
    "                                value_serializer=lambda v: json.dumps(v).encode('utf-8'),\n",
    "                                **kwargs)\n",
    "        \n",
    "    def enqueue(self, uri, **data):\n",
    "        b64str = self.data_to_b64(**data)\n",
    "        d = {\"key\":uri, \"value\":{\"uri\":uri, \"data\":b64str}}        \n",
    "        self.__enqueue_data(d)\n",
    "    \n",
    "    def data_to_b64(self, **data):\n",
    "        sink = pa.BufferOutputStream()\n",
    "        field_list = []\n",
    "        data_list = []\n",
    "        for key, value in data.items():\n",
    "            field, data = get_field_and_data(key, value)\n",
    "            field_list.append(field)\n",
    "            data_list.append(data)\n",
    "\n",
    "        schema = pa.schema(field_list)\n",
    "        batch = pa.RecordBatch.from_arrays(\n",
    "            data_list, schema)\n",
    "\n",
    "        writer = pa.RecordBatchStreamWriter(sink, batch.schema)\n",
    "        writer.write_batch(batch)\n",
    "        writer.close()\n",
    "        buf = sink.getvalue()\n",
    "        b = buf.to_pybytes()\n",
    "        b64str = self.base64_encode_image(b)\n",
    "        return b64str\n",
    "    \n",
    "    def __enqueue_data(self, data):\n",
    "        future = self.db.send(self.topic_name, **data)\n",
    "        try:\n",
    "            future.get(timeout=10) # check if send successfully\n",
    "        except kafka_errors:  # throw kafka_errors if failed\n",
    "            traceback.format_exc()\n",
    "        print(\"Write to Kafka successful\")\n",
    "    \n",
    "    @staticmethod\n",
    "    def base64_encode_image(img):\n",
    "        # base64 encode the input NumPy array\n",
    "        return base64.b64encode(img).decode(\"utf-8\")\n",
    "    \n",
    "    def close(self):\n",
    "        self.db.close()"
   ]
  },
  {
   "cell_type": "code",
   "execution_count": 3,
   "id": "186ec9c2-e3f4-4158-a0f8-2d7d0c75c470",
   "metadata": {},
   "outputs": [],
   "source": [
    "def load_imagedata(img_dir):\n",
    "    image_path = [os.path.join(img_dir, name) for name in os.listdir(img_dir) if name.endswith(\"jpg\")]\n",
    "    images = {}\n",
    "    \n",
    "    for img_p in image_path:\n",
    "        origin_img = cv2.imread(img_p)\n",
    "        img, ratio = preprocess(origin_img, (640, 640))\n",
    "        img_arr = img.tobytes()\n",
    "        image_name = os.path.split(img_p)[-1]\n",
    "        images[image_name] = img\n",
    "    return images"
   ]
  },
  {
   "cell_type": "code",
   "execution_count": 4,
   "id": "ddeddc57-f67a-4c9d-8d24-44b3b06acb86",
   "metadata": {},
   "outputs": [],
   "source": [
    "def push_data(batch_datas):\n",
    "    host_name = socket.gethostname()\n",
    "    port = \"9092\"\n",
    "    n = 0\n",
    "    input_queue = InputQueue(host=host_name, port=port, max_request_size=10485760) #设置发送数据最大长度是10M\n",
    "    epoch = 2\n",
    "    batch_size = len(batch_datas)\n",
    "    \n",
    "    for i in range(epoch):\n",
    "        for image_name, data in batch_datas.items():\n",
    "            m_id = \"id-{:03d}-{}\".format(i, image_name)\n",
    "            input_queue.enqueue(m_id, image=data)\n",
    "            time.sleep(0.1)\n",
    "            n += 1\n",
    "    input_queue.close()\n",
    "    print(\"The total number of images written to Kafka is {}.\".format(epoch*batch_size))"
   ]
  },
  {
   "cell_type": "code",
   "execution_count": 5,
   "id": "809d413c-6302-4ea4-9b2d-0447b1bb2e52",
   "metadata": {},
   "outputs": [
    {
     "name": "stderr",
     "output_type": "stream",
     "text": [
      "/root/miniconda3/envs/zoo-pytorch1.7/lib/python3.6/site-packages/ipykernel_launcher.py:31: FutureWarning: Schema passed to names= option, please pass schema= explicitly. Will raise exception in future\n"
     ]
    },
    {
     "name": "stdout",
     "output_type": "stream",
     "text": [
      "Write to Kafka successful\n",
      "Write to Kafka successful\n",
      "The total number of images written to Kafka is 2.\n"
     ]
    }
   ],
   "source": [
    "images = load_imagedata(\"./images\") #images base64 string\n",
    "push_data(images)"
   ]
  },
  {
   "cell_type": "code",
   "execution_count": null,
   "id": "8c16a1ad-7994-4de8-a288-0eca17b44be3",
   "metadata": {},
   "outputs": [],
   "source": []
  }
 ],
 "metadata": {
  "kernelspec": {
   "display_name": "zoo-pytorch1.7",
   "language": "python",
   "name": "zoo-pytorch1.7"
  },
  "language_info": {
   "codemirror_mode": {
    "name": "ipython",
    "version": 3
   },
   "file_extension": ".py",
   "mimetype": "text/x-python",
   "name": "python",
   "nbconvert_exporter": "python",
   "pygments_lexer": "ipython3",
   "version": "3.6.13"
  }
 },
 "nbformat": 4,
 "nbformat_minor": 5
}
