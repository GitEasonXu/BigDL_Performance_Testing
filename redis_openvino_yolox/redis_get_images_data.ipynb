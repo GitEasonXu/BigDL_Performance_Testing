{
 "cells": [
  {
   "cell_type": "code",
   "execution_count": 1,
   "id": "e4f1cca2-f380-402d-b833-365a5206e5d9",
   "metadata": {},
   "outputs": [],
   "source": [
    "from bigdl.serving.client import InputQueue, OutputQueue\n",
    "import os\n",
    "import cv2\n",
    "import json\n",
    "import time\n",
    "import numpy as np\n",
    "import base64\n",
    "from PIL import Image\n",
    "import socket"
   ]
  },
  {
   "cell_type": "code",
   "execution_count": 2,
   "id": "0641bba8-5485-4ec1-86db-5e501a9a78b2",
   "metadata": {},
   "outputs": [],
   "source": [
    "hostname = socket.gethostname()\n",
    "port = \"30322\""
   ]
  },
  {
   "cell_type": "code",
   "execution_count": 3,
   "id": "e010307f-6356-4434-b334-bc11c84c693d",
   "metadata": {},
   "outputs": [],
   "source": [
    "def get_result(timeout=5):\n",
    "    start_time = time.time()\n",
    "    end_time = start_time\n",
    "    output_api = OutputQueue(host = hostname, port = port)\n",
    "    results_queue = {}\n",
    "    total_num = 0\n",
    "    \n",
    "    while True:\n",
    "        result = output_api.dequeue()\n",
    "        total_num += len(result)\n",
    "        if not result:\n",
    "            end_time = time.time()\n",
    "            if (end_time - start_time > timeout):\n",
    "                if len(results_queue) == 0:\n",
    "                    break\n",
    "                else:\n",
    "                    #show_images(results_queue)\n",
    "                    results_queue = {}\n",
    "        else:\n",
    "            start_time = time.time()\n",
    "            end_time = start_time\n",
    "            #result = process_result(result)\n",
    "            results_queue.update(result)\n",
    "            if len(results_queue) > 6:   #如果已有超过6个结果就会显示\n",
    "                #show_images(results_queue)\n",
    "                results_queue = {}\n",
    "    print(\"Task completed successfully, total num is : {}\".format(total_num))"
   ]
  },
  {
   "cell_type": "code",
   "execution_count": 4,
   "id": "6f626cc2-a386-4e0b-ac6f-340cf960f5a0",
   "metadata": {},
   "outputs": [
    {
     "name": "stdout",
     "output_type": "stream",
     "text": [
      "redis group exist, will not create new one\n",
      "Task completed successfully, total num is : 0\n"
     ]
    }
   ],
   "source": [
    "get_result()"
   ]
  }
 ],
 "metadata": {
  "kernelspec": {
   "display_name": "zoo-pytorch1.7",
   "language": "python",
   "name": "zoo-pytorch1.7"
  },
  "language_info": {
   "codemirror_mode": {
    "name": "ipython",
    "version": 3
   },
   "file_extension": ".py",
   "mimetype": "text/x-python",
   "name": "python",
   "nbconvert_exporter": "python",
   "pygments_lexer": "ipython3",
   "version": "3.6.13"
  }
 },
 "nbformat": 4,
 "nbformat_minor": 5
}
