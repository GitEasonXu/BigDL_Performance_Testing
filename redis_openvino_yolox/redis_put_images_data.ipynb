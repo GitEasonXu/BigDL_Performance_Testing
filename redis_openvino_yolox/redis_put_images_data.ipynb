{
 "cells": [
  {
   "cell_type": "code",
   "execution_count": 1,
   "id": "b0cfd7e5-637c-4dbe-92e9-97c65372f0aa",
   "metadata": {},
   "outputs": [],
   "source": [
    "from bigdl.serving.client import InputQueue, OutputQueue\n",
    "import os\n",
    "import cv2\n",
    "import json\n",
    "import time\n",
    "import numpy as np\n",
    "import base64\n",
    "from PIL import Image\n",
    "import socket\n",
    "from utils import preprocess"
   ]
  },
  {
   "cell_type": "code",
   "execution_count": 2,
   "id": "ae3bde13-6c74-494d-9150-bcc85533323c",
   "metadata": {},
   "outputs": [
    {
     "name": "stdout",
     "output_type": "stream",
     "text": [
      "redis group exist, will not create new one\n"
     ]
    },
    {
     "data": {
      "text/plain": [
       "{}"
      ]
     },
     "execution_count": 2,
     "metadata": {},
     "output_type": "execute_result"
    }
   ],
   "source": [
    "hostname = socket.gethostname()\n",
    "port = \"30322\"\n",
    "#创建一个输出队列，将redis数据清空\n",
    "output_api = OutputQueue(host = hostname,port = port)\n",
    "output_api.dequeue()"
   ]
  },
  {
   "cell_type": "code",
   "execution_count": 3,
   "id": "3e5b9fe1-8b7c-49a0-aa06-d7e3b62d9dea",
   "metadata": {},
   "outputs": [],
   "source": [
    "def load_imagedata(img_dir):\n",
    "    image_path = [os.path.join(img_dir, name) for name in os.listdir(img_dir) if name.endswith(\"jpg\")]\n",
    "    images = {}\n",
    "    \n",
    "    for img_p in image_path:\n",
    "        origin_img = cv2.imread(img_p)\n",
    "        img, ratio = preprocess(origin_img, (640, 640))\n",
    "        img_arr = img.tobytes()\n",
    "        image_name = os.path.split(img_p)[-1]\n",
    "        images[image_name] = img\n",
    "    return images"
   ]
  },
  {
   "cell_type": "code",
   "execution_count": 4,
   "id": "48c0698d-93fe-4c3e-8e50-bee2f371fa47",
   "metadata": {},
   "outputs": [],
   "source": [
    "def push_data(batch_datas):\n",
    "    input_queue = InputQueue(host=hostname, port=port)\n",
    "    epoch = 2\n",
    "    batch_size = len(batch_datas)\n",
    "    \n",
    "    for i in range(epoch):\n",
    "        for image_name, data in batch_datas.items():\n",
    "            m_id = \"id-{:03d}-{}\".format(i, image_name)\n",
    "            input_queue.enqueue(m_id, image=data)\n",
    "            time.sleep(0.1)\n",
    "    print(\"The total number of images written to Redis is {}.\".format(epoch*batch_size))"
   ]
  },
  {
   "cell_type": "code",
   "execution_count": 5,
   "id": "dc394c39-987b-455c-a388-03ff5537b2cb",
   "metadata": {},
   "outputs": [
    {
     "name": "stdout",
     "output_type": "stream",
     "text": [
      "redis group exist, will not create new one\n",
      "redis group exist, will not create new one\n",
      "Write to Redis successful\n",
      "Write to Redis successful\n"
     ]
    },
    {
     "name": "stderr",
     "output_type": "stream",
     "text": [
      "/root/miniconda3/envs/zoo-pytorch1.7/lib/python3.6/site-packages/bigdl/serving/client.py:160: FutureWarning: Schema passed to names= option, please pass schema= explicitly. Will raise exception in future\n",
      "  data_list, schema)\n"
     ]
    },
    {
     "name": "stdout",
     "output_type": "stream",
     "text": [
      "Write to Redis successful\n",
      "Write to Redis successful\n",
      "Write to Redis successful\n",
      "Write to Redis successful\n",
      "Write to Redis successful\n",
      "Write to Redis successful\n",
      "Write to Redis successful\n",
      "Write to Redis successful\n",
      "Write to Redis successful\n",
      "Write to Redis successful\n",
      "Write to Redis successful\n",
      "Write to Redis successful\n",
      "Write to Redis successful\n",
      "Write to Redis successful\n",
      "Write to Redis successful\n",
      "Write to Redis successful\n",
      "Write to Redis successful\n",
      "Write to Redis successful\n",
      "The total number of images written to Redis is 20.\n"
     ]
    }
   ],
   "source": [
    "images = load_imagedata(\"./images\")\n",
    "push_data(images)"
   ]
  }
 ],
 "metadata": {
  "kernelspec": {
   "display_name": "zoo-pytorch1.7",
   "language": "python",
   "name": "zoo-pytorch1.7"
  },
  "language_info": {
   "codemirror_mode": {
    "name": "ipython",
    "version": 3
   },
   "file_extension": ".py",
   "mimetype": "text/x-python",
   "name": "python",
   "nbconvert_exporter": "python",
   "pygments_lexer": "ipython3",
   "version": "3.6.13"
  }
 },
 "nbformat": 4,
 "nbformat_minor": 5
}
